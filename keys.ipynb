{
 "metadata": {
  "language_info": {
   "codemirror_mode": {
    "name": "ipython",
    "version": 3
   },
   "file_extension": ".py",
   "mimetype": "text/x-python",
   "name": "python",
   "nbconvert_exporter": "python",
   "pygments_lexer": "ipython3",
   "version": "3.8.5-final"
  },
  "orig_nbformat": 2,
  "kernelspec": {
   "name": "python385jvsc74a57bd0cc5f70855ac006f3de45a3cc3b9e7d8d53845e50458809cb162b0174266dec97",
   "display_name": "Python 3.8.5 64-bit (conda)"
  }
 },
 "nbformat": 4,
 "nbformat_minor": 2,
 "cells": [
  {
   "cell_type": "code",
   "execution_count": null,
   "metadata": {},
   "outputs": [],
   "source": [
    "from main import rdb"
   ]
  },
  {
   "cell_type": "code",
   "execution_count": null,
   "metadata": {},
   "outputs": [],
   "source": [
    "\"\"\"\n",
    "删除key\n",
    "DEL key [key ...]\n",
    "返回删除的个数\n",
    "\"\"\"\n",
    "rdb.delete('k1', 'k2', 'k3')"
   ]
  },
  {
   "source": [
    "\"\"\"\n",
    "检查key是否存在\n",
    "EXISTS key [key ...]\n",
    "返回存在的个数\n",
    "\"\"\"\n",
    "# keys = ['k1', 'k2', 'k3']\n",
    "# rdb.exists(*keys)\n",
    "rdb.exists('k1', 'k2', 'k3')"
   ],
   "cell_type": "code",
   "metadata": {},
   "execution_count": null,
   "outputs": []
  },
  {
   "source": [
    "\"\"\"\n",
    "设置key的过期时间\n",
    "时间一到，key自动删除。\n",
    "EXPIRE key seconds\n",
    "超时时间只能使用删除 key 或者覆盖 key 的命令清除，包括 DEL, SET, GETSET 和所有的 *STORE 命令。 对于修改 key 中存储的值，而不是用新值替换旧值的命令，不会修改超时时间。例如，自增 key 中存储的值的 INCR , 向list中新增一个值 LPUSH, 或者修改 hash 域的值 HSET ，这些都不会修改 key 的过期时间。通过使用 PERSIST 命令把 key 改回持久的(persistent) key，这样 key 的过期时间也可以被清除。\n",
    "key使用 RENAME 改名后，过期时间被转移到新 key 上。已存在的旧 key 使用 RENAME 改名，那么新 key 会继承所有旧 key 的属性。\n",
    "\"\"\"\n",
    "rdb.set(\"k1\", 123)\n",
    "rdb.expire(\"k1\", 20)\n",
    "# set 会清除设置的过期时间\n",
    "# rdb.set(\"k1\", '333')\n",
    "rdb.ttl(\"k1\")"
   ],
   "cell_type": "code",
   "metadata": {},
   "execution_count": null,
   "outputs": []
  },
  {
   "cell_type": "code",
   "execution_count": null,
   "metadata": {},
   "outputs": [],
   "source": [
    "\"\"\"\n",
    "expireat key timestamp\n",
    "EXPIREAT 与 EXPIRE 有相同的作用和语义, 不同的是 EXPIREAT 使用绝对 Unix 时间戳 (自1970年1月1日以来的秒数)代替表示过期时间的秒数。\n",
    "使用过去的时间戳将会立即删除该 key。\n",
    "\"\"\"\n",
    "import time\n",
    "rdb.set('t1', 'timestamp')\n",
    "timestamp_now = int(time.time())\n",
    "rdb.expireat('t1', timestamp_now + 10)"
   ]
  },
  {
   "source": [
    "\"\"\"\n",
    "keys pattern\n",
    "命令用于查找所有符合给定模式 pattern 的 key\n",
    "\"\"\"\n",
    "rdb.keys('k*')"
   ],
   "cell_type": "code",
   "metadata": {},
   "execution_count": null,
   "outputs": []
  },
  {
   "cell_type": "code",
   "execution_count": null,
   "metadata": {},
   "outputs": [],
   "source": [
    "\"\"\"\r\n",
    "将 key 原子性地从当前实例传送到目标实例的指定数据库上\r\n",
    "migrate host port key|\"\" destination-db timeout [COPY] [REPLACE] [AUTH password] [KEYS key [key ...]]\r\n",
    "\"\"\"\r\n",
    "# FIXME 传输成功但触发异常\r\n",
    "rdb.migrate(host='localhost', port=6379, keys=['k4', 'k9'], destination_db=2, timeout=3000, copy=False, replace=False, auth=None)"
   ]
  },
  {
   "cell_type": "code",
   "execution_count": null,
   "metadata": {},
   "outputs": [],
   "source": [
    "\"\"\"\n",
    "MOVE key db\n",
    "将当前数据库的 key 移动到选定的数据库 db 当中。\n",
    "key不存在 返回False\n",
    "如果对象数据库已存在key 返回False\n",
    "\"\"\"\n",
    "rdb.move(\"k4\", 2)"
   ]
  },
  {
   "cell_type": "code",
   "execution_count": null,
   "metadata": {},
   "outputs": [],
   "source": [
    "# PERSIST key 移除key的过期时间\n",
    "rdb.set('t1', 900)\n",
    "rdb.persist(\"t1\")\n",
    "rdb.ttl('t1')"
   ]
  },
  {
   "cell_type": "code",
   "execution_count": null,
   "metadata": {},
   "outputs": [],
   "source": [
    "\"\"\"\n",
    "设置key的过期时间毫秒\n",
    "PEXPIRE key milliseconds\n",
    "\"\"\"\n",
    "rdb.set(\"t1\", 111)\n",
    "rdb.pexpire('t1', 1788)\n",
    "rdb.pttl('t1')"
   ]
  },
  {
   "cell_type": "code",
   "execution_count": null,
   "metadata": {},
   "outputs": [],
   "source": [
    "\"\"\"\n",
    "设置key的过期时间戳精确到毫秒\n",
    "PEXPIREAT key milliseconds-timestamp \n",
    "\"\"\"\n",
    "rdb.set(\"t2\", 1111)\n",
    "rdb.pexpireat(\"t2\", 1555555555005)\n",
    "\"\"\"\n",
    "pttl key\n",
    "以毫秒为单位返回key的剩余过期时间\n",
    "key不存在返回-2\n",
    "key存在但没有过期时间返回-1\n",
    "\"\"\"\n",
    "rdb.pttl('t2')"
   ]
  },
  {
   "cell_type": "code",
   "execution_count": null,
   "metadata": {},
   "outputs": [],
   "source": [
    "\"\"\"\n",
    "从当前数据库中随机返回一个 key \n",
    "randomkey\n",
    "\"\"\"\n",
    "rdb.randomkey()"
   ]
  },
  {
   "cell_type": "code",
   "execution_count": null,
   "metadata": {},
   "outputs": [],
   "source": [
    "\"\"\"\n",
    "重命名key\n",
    "RENAME key newkey\n",
    "key 或 newkey不存在都会触发异常\n",
    "newkey会覆盖key值\n",
    "\"\"\"\n",
    "rdb.set(\"pc\", \"asus\")\n",
    "rdb.set(\"mypc\", \"dell\")\n",
    "rdb.rename('pc', 'mypc')\n",
    "rdb.mget(['pc', 'mypc'])"
   ]
  },
  {
   "cell_type": "code",
   "execution_count": null,
   "metadata": {},
   "outputs": [],
   "source": [
    "\"\"\"\n",
    "newkey不存在时修改 key 的名称 。若 key 不存在返回错误。\n",
    "renamenx key newkey\n",
    "\"\"\"\n",
    "rdb.renamenx('mypc', 'newpc')\n",
    "rdb.get('newpc')"
   ]
  },
  {
   "cell_type": "code",
   "execution_count": 107,
   "metadata": {},
   "outputs": [
    {
     "output_type": "execute_result",
     "data": {
      "text/plain": [
       "(0, [b'k5', b'newpc', b'k9', b'k11'])"
      ]
     },
     "metadata": {},
     "execution_count": 107
    }
   ],
   "source": [
    "\"\"\"\n",
    "增量遍历集合中的元素\n",
    "SCAN cursor [MATCH pattern] [COUNT count] [TYPE type]\n",
    "cursor - 游标。\n",
    "pattern - 匹配的模式。\n",
    "count - 指定从数据集里返回多少元素，默认值为 10 。\n",
    "\"\"\"\n",
    "rdb.scan(0)"
   ]
  },
  {
   "cell_type": "code",
   "execution_count": 108,
   "metadata": {},
   "outputs": [
    {
     "output_type": "execute_result",
     "data": {
      "text/plain": [
       "b'string'"
      ]
     },
     "metadata": {},
     "execution_count": 108
    }
   ],
   "source": [
    "\"\"\"\n",
    "以字符串的形式返回存储在 key 中的值的类型。\n",
    "type key\n",
    "\"\"\"\n",
    "rdb.type('k9')"
   ]
  },
  {
   "cell_type": "code",
   "execution_count": 110,
   "metadata": {},
   "outputs": [
    {
     "output_type": "execute_result",
     "data": {
      "text/plain": [
       "2"
      ]
     },
     "metadata": {},
     "execution_count": 110
    }
   ],
   "source": [
    "\"\"\"\n",
    "断开连接key\n",
    "用于删除指定的 key 。就像 DEL 一样，如果 key 不存在，则将其忽略。但是，该命令会执行命令之外的线程中执行实际的内存回收，因此它不是阻塞，而 DEL 是阻塞的。这就是命令名称的来源：UNLINK 命令只是将键与键空间断开连接。实际的删除将稍后异步进行。\n",
    "unlink key [key...]\n",
    "\"\"\"\n",
    "rdb.unlink(*['k5', 'k9'])"
   ]
  },
  {
   "cell_type": "code",
   "execution_count": null,
   "metadata": {},
   "outputs": [],
   "source": []
  }
 ]
}