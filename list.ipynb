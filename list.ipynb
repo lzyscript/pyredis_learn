{
 "metadata": {
  "language_info": {
   "codemirror_mode": {
    "name": "ipython",
    "version": 3
   },
   "file_extension": ".py",
   "mimetype": "text/x-python",
   "name": "python",
   "nbconvert_exporter": "python",
   "pygments_lexer": "ipython3",
   "version": "3.8.5-final"
  },
  "orig_nbformat": 2,
  "kernelspec": {
   "name": "python385jvsc74a57bd0cc5f70855ac006f3de45a3cc3b9e7d8d53845e50458809cb162b0174266dec97",
   "display_name": "Python 3.8.5 64-bit (conda)"
  }
 },
 "nbformat": 4,
 "nbformat_minor": 2,
 "cells": [
  {
   "cell_type": "code",
   "execution_count": null,
   "metadata": {},
   "outputs": [],
   "source": [
    "from main import rdb"
   ]
  },
  {
   "cell_type": "code",
   "execution_count": null,
   "metadata": {},
   "outputs": [],
   "source": [
    "\"\"\"\n",
    "redis LPUSH 用于将一个或多个值插入到列表key 的头部。\n",
    "如果 key 不存在，那么在进行 push 操作前会创建一个空列表。\n",
    "如果 key 对应的值不是 list 类型，那么会返回一个错误。\n",
    "可以使用一个命令把多个元素 push 进入列表，只需在命令末尾加上多个指定的参数。\n",
    "元素按在参数中出现的顺序，从左到右依次插入到 list 的头部。\n",
    "LPUSH key element [element ...]\n",
    "返回执行后list的长度\n",
    "\"\"\"\n",
    "rdb.lpush(\"l1\", 1)\n",
    "rdb.lpush(\"l1\", *[1, 2, 3])\n",
    "# rdb.set(\"k1\", 1)\n",
    "# rdb.lpush(\"k1\", 1)"
   ]
  },
  {
   "cell_type": "code",
   "execution_count": 10,
   "metadata": {},
   "outputs": [
    {
     "output_type": "execute_result",
     "data": {
      "text/plain": [
       "0"
      ]
     },
     "metadata": {},
     "execution_count": 10
    }
   ],
   "source": [
    "\"\"\"\n",
    "Redis LPUSHX 在当 key 存在并且存储着一个 list 类型值的时候，向值 list 的头部插入 value。\n",
    "与 LPUSH 相反，当 key 不存在的时候不会进行任何操作。\n",
    "LPUSHX key element [element ...]\n",
    "返回执行后list的长度\n",
    "\"\"\"\n",
    "rdb.lpushx('l2', 1)"
   ]
  },
  {
   "cell_type": "code",
   "execution_count": 17,
   "metadata": {},
   "outputs": [
    {
     "output_type": "execute_result",
     "data": {
      "text/plain": [
       "[b'3', b'2', b'1', b'1', b'3', b'2', b'1', b'1', b'1', b'1']"
      ]
     },
     "metadata": {},
     "execution_count": 17
    }
   ],
   "source": [
    "\"\"\"\n",
    "Redis LRANGE 用于返回列表中指定区间内的元素，区间以偏移量 START 和 END 指定。 其中 0 表示列表的第一个元素， 1 表示列表的第二个元素，以此类推。 你也可以使用负数下标，以 -1 表示列表的最后一个元素， -2 表示列表的倒数第二个元素，以此类推。\n",
    "lrange key start end\n",
    "\"\"\"\n",
    "rdb.lrange('l1', 0, -1)"
   ]
  },
  {
   "cell_type": "code",
   "execution_count": null,
   "metadata": {},
   "outputs": [],
   "source": []
  }
 ]
}